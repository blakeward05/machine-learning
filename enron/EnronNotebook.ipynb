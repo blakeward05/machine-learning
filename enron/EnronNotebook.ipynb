{
 "cells": [
  {
   "cell_type": "code",
   "execution_count": 3,
   "metadata": {
    "collapsed": false
   },
   "outputs": [
    {
     "data": {
      "text/plain": [
       "'C:\\\\Blake\\\\MLND\\\\enron'"
      ]
     },
     "execution_count": 3,
     "metadata": {},
     "output_type": "execute_result"
    }
   ],
   "source": [
    "import os\n",
    "os.getcwd()"
   ]
  },
  {
   "cell_type": "code",
   "execution_count": 4,
   "metadata": {
    "collapsed": false
   },
   "outputs": [],
   "source": [
    "os.chdir(\"C:\\\\Blake\\\\MLND\\\\enron\\\\ud120-projects-master\")"
   ]
  },
  {
   "cell_type": "code",
   "execution_count": 9,
   "metadata": {
    "collapsed": false
   },
   "outputs": [
    {
     "data": {
      "text/plain": [
       "'C:\\\\Blake\\\\MLND\\\\enron\\\\ud120-projects-master'"
      ]
     },
     "execution_count": 9,
     "metadata": {},
     "output_type": "execute_result"
    }
   ],
   "source": [
    "os.getcwd()"
   ]
  },
  {
   "cell_type": "code",
   "execution_count": 5,
   "metadata": {
    "collapsed": false,
    "scrolled": false
   },
   "outputs": [],
   "source": [
    "import pickle\n",
    "\n",
    "enron_data = pickle.load(open(\"C:\\\\Blake\\\\MLND\\\\enron\\\\ud120-projects-master\\\\final_project\\\\final_project_dataset.pkl\", \"r\"))"
   ]
  },
  {
   "cell_type": "code",
   "execution_count": 16,
   "metadata": {
    "collapsed": false
   },
   "outputs": [
    {
     "data": {
      "text/plain": [
       "dict"
      ]
     },
     "execution_count": 16,
     "metadata": {},
     "output_type": "execute_result"
    }
   ],
   "source": [
    "type(enron_data)"
   ]
  },
  {
   "cell_type": "code",
   "execution_count": 31,
   "metadata": {
    "collapsed": false
   },
   "outputs": [
    {
     "ename": "TypeError",
     "evalue": "items() takes no arguments (1 given)",
     "output_type": "error",
     "traceback": [
      "\u001b[0;31m---------------------------------------------------------------------------\u001b[0m",
      "\u001b[0;31mTypeError\u001b[0m                                 Traceback (most recent call last)",
      "\u001b[0;32m<ipython-input-31-cbc00107cde1>\u001b[0m in \u001b[0;36m<module>\u001b[0;34m()\u001b[0m\n\u001b[0;32m----> 1\u001b[0;31m \u001b[0menron_data\u001b[0m\u001b[1;33m.\u001b[0m\u001b[0mitems\u001b[0m\u001b[1;33m(\u001b[0m\u001b[1;34m\"total_payments\"\u001b[0m\u001b[1;33m)\u001b[0m\u001b[1;33m\u001b[0m\u001b[0m\n\u001b[0m",
      "\u001b[0;31mTypeError\u001b[0m: items() takes no arguments (1 given)"
     ]
    }
   ],
   "source": [
    "enron_data.items(\"total_payments\")\n"
   ]
  },
  {
   "cell_type": "code",
   "execution_count": 21,
   "metadata": {
    "collapsed": false
   },
   "outputs": [
    {
     "data": {
      "text/plain": [
       "{'bonus': 1200000,\n",
       " 'deferral_payments': 27610,\n",
       " 'deferred_income': -144062,\n",
       " 'director_fees': 'NaN',\n",
       " 'email_address': 'wes.colwell@enron.com',\n",
       " 'exercised_stock_options': 'NaN',\n",
       " 'expenses': 16514,\n",
       " 'from_messages': 40,\n",
       " 'from_poi_to_this_person': 240,\n",
       " 'from_this_person_to_poi': 11,\n",
       " 'loan_advances': 'NaN',\n",
       " 'long_term_incentive': 'NaN',\n",
       " 'other': 101740,\n",
       " 'poi': True,\n",
       " 'restricted_stock': 698242,\n",
       " 'restricted_stock_deferred': 'NaN',\n",
       " 'salary': 288542,\n",
       " 'shared_receipt_with_poi': 1132,\n",
       " 'to_messages': 1758,\n",
       " 'total_payments': 1490344,\n",
       " 'total_stock_value': 698242}"
      ]
     },
     "execution_count": 21,
     "metadata": {},
     "output_type": "execute_result"
    }
   ],
   "source": [
    "enron_data[\"COLWELL WESLEY\"]"
   ]
  },
  {
   "cell_type": "code",
   "execution_count": 25,
   "metadata": {
    "collapsed": false
   },
   "outputs": [
    {
     "data": {
      "text/plain": [
       "{'bonus': 5600000,\n",
       " 'deferral_payments': 'NaN',\n",
       " 'deferred_income': 'NaN',\n",
       " 'director_fees': 'NaN',\n",
       " 'email_address': 'jeff.skilling@enron.com',\n",
       " 'exercised_stock_options': 19250000,\n",
       " 'expenses': 29336,\n",
       " 'from_messages': 108,\n",
       " 'from_poi_to_this_person': 88,\n",
       " 'from_this_person_to_poi': 30,\n",
       " 'loan_advances': 'NaN',\n",
       " 'long_term_incentive': 1920000,\n",
       " 'other': 22122,\n",
       " 'poi': True,\n",
       " 'restricted_stock': 6843672,\n",
       " 'restricted_stock_deferred': 'NaN',\n",
       " 'salary': 1111258,\n",
       " 'shared_receipt_with_poi': 2042,\n",
       " 'to_messages': 3627,\n",
       " 'total_payments': 8682716,\n",
       " 'total_stock_value': 26093672}"
      ]
     },
     "execution_count": 25,
     "metadata": {},
     "output_type": "execute_result"
    }
   ],
   "source": [
    "enron_data[\"SKILLING JEFFREY K\"]"
   ]
  },
  {
   "cell_type": "code",
   "execution_count": 39,
   "metadata": {
    "collapsed": false
   },
   "outputs": [
    {
     "name": "stdout",
     "output_type": "stream",
     "text": [
      "METTS MARK, 1061827\n",
      "BAXTER JOHN C, 5634343\n",
      "ELLIOTT STEVEN, 211725\n",
      "CORDES WILLIAM R, NaN\n",
      "HANNON KEVIN P, 288682\n",
      "MORDAUNT KRISTINA M, 628522\n",
      "MEYER ROCKFORD G, 1848227\n",
      "MCMAHON JEFFREY, 4099771\n",
      "HORTON STANLEY C, 3131860\n",
      "PIPER GREGORY F, 1737629\n",
      "HUMPHREY GENE E, 3100224\n",
      "UMANOFF ADAM S, 1130461\n",
      "BLACHMAN JEREMY M, 2014835\n",
      "SUNDE MARTIN, 1545059\n",
      "GIBBS DANA R, 966522\n",
      "LOWRY CHARLES P, NaN\n",
      "COLWELL WESLEY, 1490344\n",
      "MULLER MARK S, 3202070\n",
      "JACKSON CHARLENE R, 551174\n",
      "WESTFAHL RICHARD K, 762135\n",
      "WALTERS GARETH W, 87410\n",
      "WALLS JR ROBERT H, 1798780\n",
      "KITCHEN LOUISE, 3471141\n",
      "CHAN RONNIE, NaN\n",
      "BELFER ROBERT, 102500\n",
      "SHANKMAN JEFFREY A, 3038702\n",
      "WODRASKA JOHN, 189583\n",
      "BERGSIEKER RICHARD P, 618850\n",
      "URQUHART JOHN A, 228656\n",
      "BIBI PHILIPPE A, 2047593\n",
      "RIEKER PAULA H, 1099100\n",
      "WHALEY DAVID A, NaN\n",
      "BECK SALLY W, 969068\n",
      "HAUG DAVID L, 475\n",
      "ECHOLS JOHN B, 2692324\n",
      "MENDELSOHN JOHN, 148\n",
      "HICKERSON GARY J, 2081796\n",
      "CLINE KENNETH W, NaN\n",
      "LEWIS RICHARD, NaN\n",
      "HAYES ROBERT E, 7961\n",
      "MCCARTY DANNY J, NaN\n",
      "KOPPER MICHAEL J, 2652612\n",
      "LEFF DANIEL P, 2664228\n",
      "LAVORATO JOHN J, 10425757\n",
      "BERBERIAN DAVID, 228474\n",
      "DETMERING TIMOTHY J, 1204583\n",
      "WAKEHAM JOHN, 213071\n",
      "POWERS WILLIAM, NaN\n",
      "GOLD JOSEPH, 2146973\n",
      "BANNANTINE JAMES M, 916197\n",
      "DUNCAN JOHN H, 77492\n",
      "SHAPIRO RICHARD S, 1057548\n",
      "SHERRIFF JOHN R, 4335388\n",
      "SHELBY REX, 2003885\n",
      "LEMAISTRE CHARLES, 87492\n",
      "DEFFNER JOSEPH M, 1208649\n",
      "KISHKILL JOSEPH G, 704896\n",
      "WHALLEY LAWRENCE G, 4677574\n",
      "MCCONNELL MICHAEL S, 2101364\n",
      "PIRO JIM, NaN\n",
      "DELAINEY DAVID W, 4747979\n",
      "SULLIVAN-SHAKLOVITZ COLLEEN, 999356\n",
      "WROBEL BRUCE, NaN\n",
      "LINDHOLM TOD A, 875889\n",
      "MEYER JEROME J, 2151\n",
      "LAY KENNETH L, 103559793\n",
      "BUTTS ROBERT H, 1271582\n",
      "OLSON CINDY K, 1321557\n",
      "MCDONALD REBECCA, NaN\n",
      "CUMBERLAND MICHAEL S, 807956\n",
      "GAHN ROBERT S, 900585\n",
      "MCCLELLAN GEORGE, 1318763\n",
      "HERMANN ROBERT J, 1297461\n",
      "SCRIMSHAW MATTHEW, NaN\n",
      "GATHMANN WILLIAM D, NaN\n",
      "HAEDICKE MARK E, 3859065\n",
      "BOWEN JR RAYMOND M, 2669589\n",
      "GILLIS JOHN, NaN\n",
      "FITZGERALD JAY L, 1414857\n",
      "MORAN MICHAEL P, NaN\n",
      "REDMOND BRIAN L, 111529\n",
      "BAZELIDES PHILIP J, 860136\n",
      "BELDEN TIMOTHY N, 5501630\n",
      "DURAN WILLIAM D, 2093263\n",
      "THORN TERENCE H, 911453\n",
      "FASTOW ANDREW S, 2424083\n",
      "FOY JOE, 181755\n",
      "CALGER CHRISTOPHER F, 1639297\n",
      "RICE KENNETH D, 505050\n",
      "KAMINSKI WINCENTY J, 1086821\n",
      "LOCKHART EUGENE E, NaN\n",
      "COX DAVID, 1101393\n",
      "OVERDYKE JR JERE C, 249787\n",
      "PEREIRA PAULO V. FERRAZ, 27942\n",
      "STABLER FRANK, 1112087\n",
      "SKILLING JEFFREY K, 8682716\n",
      "BLAKE JR. NORMAN P, 1279\n",
      "SHERRICK JEFFREY B, NaN\n",
      "PRENTICE JAMES, 564348\n",
      "GRAY RODNEY, 1146658\n",
      "PICKERING MARK R, 1386690\n",
      "THE TRAVEL AGENCY IN THE PARK, 362096\n",
      "NOLES JAMES L, 774401\n",
      "KEAN STEVEN J, 1747522\n",
      "TOTAL, 309886585\n",
      "FOWLER PEGGY, NaN\n",
      "WASAFF GEORGE, 1034395\n",
      "WHITE JR THOMAS E, 1934359\n",
      "CHRISTODOULOU DIOMEDES, NaN\n",
      "ALLEN PHILLIP K, 4484442\n",
      "SHARP VICTORIA T, 1576511\n",
      "JAEDICKE ROBERT, 83750\n",
      "WINOKUR JR. HERBERT S, 84992\n",
      "BROWN MICHAEL, 49288\n",
      "BADUM JAMES P, 182466\n",
      "HUGHES JAMES A, NaN\n",
      "REYNOLDS LAWRENCE, 394475\n",
      "DIMICHELE RICHARD G, 2368151\n",
      "BHATNAGAR SANJAY, 15456290\n",
      "CARTER REBECCA C, 477557\n",
      "BUCHANAN HAROLD G, 1054637\n",
      "YEAP SOON, 55097\n",
      "MURRAY JULIA H, 812194\n",
      "GARLAND C KEVIN, 1566469\n",
      "DODSON KEITH, 319941\n",
      "YEAGER F SCOTT, 360300\n",
      "HIRKO JOSEPH, 91093\n",
      "DIETRICH JANET R, 1410464\n",
      "DERRICK JR. JAMES V, 550981\n",
      "FREVERT MARK A, 17252530\n",
      "PAI LOU L, 3123383\n",
      "BAY FRANKLIN R, 827696\n",
      "HAYSLETT RODERICK J, NaN\n",
      "FUGH JOHN L, 50591\n",
      "FALLON JAMES B, 3676340\n",
      "KOENIG MARK E, 1587421\n",
      "SAVAGE FRANK, 3750\n",
      "IZZO LAWRENCE L, 1979596\n",
      "TILNEY ELIZABETH A, 399393\n",
      "MARTIN AMANDA K, 8407016\n",
      "BUY RICHARD B, 2355702\n",
      "GRAMM WENDY L, 119292\n",
      "CAUSEY RICHARD A, 1868758\n",
      "TAYLOR MITCHELL S, 1092663\n",
      "DONAHUE JR JEFFREY M, 875760\n",
      "GLISAN JR BEN F, 1272284\n"
     ]
    }
   ],
   "source": [
    "for k in enron_data.keys():\n",
    "    print \"%s%s %s\" % (k,',',enron_data[k][\"total_payments\"])"
   ]
  },
  {
   "cell_type": "code",
   "execution_count": 11,
   "metadata": {
    "collapsed": false
   },
   "outputs": [
    {
     "name": "stdout",
     "output_type": "stream",
     "text": [
      "146\n"
     ]
    },
    {
     "data": {
      "text/plain": [
       "21"
      ]
     },
     "execution_count": 11,
     "metadata": {},
     "output_type": "execute_result"
    }
   ],
   "source": [
    "s = []\n",
    "print len(enron_data.keys())\n",
    "for k in enron_data.keys():\n",
    "    sal = enron_data[k][\"total_payments\"]\n",
    "    if sal == 'NaN':\n",
    "        s.append(sal)\n",
    "len(s)"
   ]
  },
  {
   "cell_type": "code",
   "execution_count": 41,
   "metadata": {
    "collapsed": false
   },
   "outputs": [
    {
     "name": "stdout",
     "output_type": "stream",
     "text": [
      "[274975]\n"
     ]
    }
   ],
   "source": [
    "print s"
   ]
  },
  {
   "cell_type": "code",
   "execution_count": 33,
   "metadata": {
    "collapsed": false
   },
   "outputs": [
    {
     "data": {
      "text/plain": [
       "0"
      ]
     },
     "execution_count": 33,
     "metadata": {},
     "output_type": "execute_result"
    }
   ],
   "source": [
    "import pandas as pd\n",
    "poi_pay = []\n",
    "for i in range(0,len(enron_data.keys())):\n",
    "    if enron_data.values()[i][\"poi\"]:\n",
    "        poi_pay.append(enron_data.values()[i][\"total_payments\"])\n",
    "\n",
    "sum(pd.isnull(poi_pay))"
   ]
  },
  {
   "cell_type": "code",
   "execution_count": null,
   "metadata": {
    "collapsed": true
   },
   "outputs": [],
   "source": []
  }
 ],
 "metadata": {
  "kernelspec": {
   "display_name": "Python 2",
   "language": "python",
   "name": "python2"
  },
  "language_info": {
   "codemirror_mode": {
    "name": "ipython",
    "version": 2
   },
   "file_extension": ".py",
   "mimetype": "text/x-python",
   "name": "python",
   "nbconvert_exporter": "python",
   "pygments_lexer": "ipython2",
   "version": "2.7.11"
  }
 },
 "nbformat": 4,
 "nbformat_minor": 2
}
